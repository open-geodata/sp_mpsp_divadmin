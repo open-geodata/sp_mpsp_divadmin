{
 "cells": [
  {
   "attachments": {},
   "cell_type": "markdown",
   "id": "48dbaf7b",
   "metadata": {},
   "source": [
    "<br>\n",
    "\n",
    "# Áreas Regionais\n"
   ]
  },
  {
   "cell_type": "code",
   "execution_count": 1,
   "id": "e9dff2d7",
   "metadata": {},
   "outputs": [],
   "source": [
    "import pandas as pd\n",
    "from open_geodata import geo\n",
    "\n",
    "from sp_mpsp_divadmin.paths import input_path_tab, output_path_tabs"
   ]
  },
  {
   "attachments": {},
   "cell_type": "markdown",
   "id": "366392ca-9be6-4409-894c-ba566a6e19ee",
   "metadata": {},
   "source": [
    "<br>\n",
    "\n",
    "## Nomes dos Municípios\n",
    "\n",
    "Lê o arquivo csv com o nome dos municípios\n"
   ]
  },
  {
   "cell_type": "code",
   "execution_count": 2,
   "id": "17178a04-7b19-4967-b8e0-99d1513c1fe0",
   "metadata": {},
   "outputs": [
    {
     "name": "stdout",
     "output_type": "stream",
     "text": [
      "<class 'pandas.core.frame.DataFrame'>\n",
      "RangeIndex: 645 entries, 0 to 644\n",
      "Data columns (total 2 columns):\n",
      " #   Column          Non-Null Count  Dtype \n",
      "---  ------          --------------  ----- \n",
      " 0   id_municipio    645 non-null    int64 \n",
      " 1   municipio_nome  645 non-null    object\n",
      "dtypes: int64(1), object(1)\n",
      "memory usage: 10.2+ KB\n"
     ]
    },
    {
     "data": {
      "text/html": [
       "<div>\n",
       "<style scoped>\n",
       "    .dataframe tbody tr th:only-of-type {\n",
       "        vertical-align: middle;\n",
       "    }\n",
       "\n",
       "    .dataframe tbody tr th {\n",
       "        vertical-align: top;\n",
       "    }\n",
       "\n",
       "    .dataframe thead th {\n",
       "        text-align: right;\n",
       "    }\n",
       "</style>\n",
       "<table border=\"1\" class=\"dataframe\">\n",
       "  <thead>\n",
       "    <tr style=\"text-align: right;\">\n",
       "      <th></th>\n",
       "      <th>id_municipio</th>\n",
       "      <th>municipio_nome</th>\n",
       "    </tr>\n",
       "  </thead>\n",
       "  <tbody>\n",
       "    <tr>\n",
       "      <th>0</th>\n",
       "      <td>3500105</td>\n",
       "      <td>Adamantina</td>\n",
       "    </tr>\n",
       "    <tr>\n",
       "      <th>1</th>\n",
       "      <td>3500204</td>\n",
       "      <td>Adolfo</td>\n",
       "    </tr>\n",
       "    <tr>\n",
       "      <th>2</th>\n",
       "      <td>3500303</td>\n",
       "      <td>Aguaí</td>\n",
       "    </tr>\n",
       "    <tr>\n",
       "      <th>3</th>\n",
       "      <td>3500402</td>\n",
       "      <td>Águas da Prata</td>\n",
       "    </tr>\n",
       "    <tr>\n",
       "      <th>4</th>\n",
       "      <td>3500501</td>\n",
       "      <td>Águas de Lindóia</td>\n",
       "    </tr>\n",
       "  </tbody>\n",
       "</table>\n",
       "</div>"
      ],
      "text/plain": [
       "   id_municipio    municipio_nome\n",
       "0       3500105        Adamantina\n",
       "1       3500204            Adolfo\n",
       "2       3500303             Aguaí\n",
       "3       3500402    Águas da Prata\n",
       "4       3500501  Águas de Lindóia"
      ]
     },
     "execution_count": 2,
     "metadata": {},
     "output_type": "execute_result"
    }
   ],
   "source": [
    "df_mun = geo.load_dataset('tab.sp.tab_municipio_nome')\n",
    "\n",
    "df_mun.info()\n",
    "df_mun.head()"
   ]
  },
  {
   "attachments": {},
   "cell_type": "markdown",
   "id": "ed57eb6b-48a3-401c-8712-71f4905d39eb",
   "metadata": {},
   "source": [
    "<br>\n",
    "\n",
    "## IDs vinculando Municípios com Áreas Regionais\n"
   ]
  },
  {
   "cell_type": "code",
   "execution_count": 3,
   "id": "3defe238",
   "metadata": {},
   "outputs": [
    {
     "name": "stdout",
     "output_type": "stream",
     "text": [
      "<class 'pandas.core.frame.DataFrame'>\n",
      "RangeIndex: 645 entries, 0 to 644\n",
      "Data columns (total 2 columns):\n",
      " #   Column        Non-Null Count  Dtype\n",
      "---  ------        --------------  -----\n",
      " 0   id_municipio  645 non-null    int64\n",
      " 1   id_pjreg      645 non-null    int64\n",
      "dtypes: int64(2)\n",
      "memory usage: 10.2 KB\n"
     ]
    },
    {
     "data": {
      "text/html": [
       "<div>\n",
       "<style scoped>\n",
       "    .dataframe tbody tr th:only-of-type {\n",
       "        vertical-align: middle;\n",
       "    }\n",
       "\n",
       "    .dataframe tbody tr th {\n",
       "        vertical-align: top;\n",
       "    }\n",
       "\n",
       "    .dataframe thead th {\n",
       "        text-align: right;\n",
       "    }\n",
       "</style>\n",
       "<table border=\"1\" class=\"dataframe\">\n",
       "  <thead>\n",
       "    <tr style=\"text-align: right;\">\n",
       "      <th></th>\n",
       "      <th>id_municipio</th>\n",
       "      <th>id_pjreg</th>\n",
       "    </tr>\n",
       "  </thead>\n",
       "  <tbody>\n",
       "    <tr>\n",
       "      <th>0</th>\n",
       "      <td>3500105</td>\n",
       "      <td>20</td>\n",
       "    </tr>\n",
       "    <tr>\n",
       "      <th>1</th>\n",
       "      <td>3500204</td>\n",
       "      <td>19</td>\n",
       "    </tr>\n",
       "    <tr>\n",
       "      <th>2</th>\n",
       "      <td>3500303</td>\n",
       "      <td>23</td>\n",
       "    </tr>\n",
       "    <tr>\n",
       "      <th>3</th>\n",
       "      <td>3500402</td>\n",
       "      <td>23</td>\n",
       "    </tr>\n",
       "    <tr>\n",
       "      <th>4</th>\n",
       "      <td>3500501</td>\n",
       "      <td>23</td>\n",
       "    </tr>\n",
       "  </tbody>\n",
       "</table>\n",
       "</div>"
      ],
      "text/plain": [
       "   id_municipio  id_pjreg\n",
       "0       3500105        20\n",
       "1       3500204        19\n",
       "2       3500303        23\n",
       "3       3500402        23\n",
       "4       3500501        23"
      ]
     },
     "execution_count": 3,
     "metadata": {},
     "output_type": "execute_result"
    }
   ],
   "source": [
    "# Dataframe\n",
    "df = pd.read_csv(\n",
    "    input_path_tab / 'tab_ids_municipio.csv',\n",
    "    usecols=['id_municipio', 'id_pjreg'],\n",
    ")\n",
    "\n",
    "# Results\n",
    "df.info()\n",
    "df.head()"
   ]
  },
  {
   "cell_type": "code",
   "execution_count": 4,
   "id": "392cd81c-90d5-43f6-8b6e-77b4dd9bc3be",
   "metadata": {},
   "outputs": [
    {
     "name": "stdout",
     "output_type": "stream",
     "text": [
      "<class 'pandas.core.frame.DataFrame'>\n",
      "RangeIndex: 645 entries, 0 to 644\n",
      "Data columns (total 3 columns):\n",
      " #   Column          Non-Null Count  Dtype \n",
      "---  ------          --------------  ----- \n",
      " 0   id_municipio    645 non-null    int64 \n",
      " 1   municipio_nome  645 non-null    object\n",
      " 2   id_pjreg        645 non-null    int64 \n",
      "dtypes: int64(2), object(1)\n",
      "memory usage: 15.2+ KB\n"
     ]
    },
    {
     "data": {
      "text/html": [
       "<div>\n",
       "<style scoped>\n",
       "    .dataframe tbody tr th:only-of-type {\n",
       "        vertical-align: middle;\n",
       "    }\n",
       "\n",
       "    .dataframe tbody tr th {\n",
       "        vertical-align: top;\n",
       "    }\n",
       "\n",
       "    .dataframe thead th {\n",
       "        text-align: right;\n",
       "    }\n",
       "</style>\n",
       "<table border=\"1\" class=\"dataframe\">\n",
       "  <thead>\n",
       "    <tr style=\"text-align: right;\">\n",
       "      <th></th>\n",
       "      <th>id_municipio</th>\n",
       "      <th>municipio_nome</th>\n",
       "      <th>id_pjreg</th>\n",
       "    </tr>\n",
       "  </thead>\n",
       "  <tbody>\n",
       "    <tr>\n",
       "      <th>0</th>\n",
       "      <td>3500105</td>\n",
       "      <td>Adamantina</td>\n",
       "      <td>20</td>\n",
       "    </tr>\n",
       "    <tr>\n",
       "      <th>1</th>\n",
       "      <td>3500204</td>\n",
       "      <td>Adolfo</td>\n",
       "      <td>19</td>\n",
       "    </tr>\n",
       "    <tr>\n",
       "      <th>2</th>\n",
       "      <td>3500303</td>\n",
       "      <td>Aguaí</td>\n",
       "      <td>23</td>\n",
       "    </tr>\n",
       "    <tr>\n",
       "      <th>3</th>\n",
       "      <td>3500402</td>\n",
       "      <td>Águas da Prata</td>\n",
       "      <td>23</td>\n",
       "    </tr>\n",
       "    <tr>\n",
       "      <th>4</th>\n",
       "      <td>3500501</td>\n",
       "      <td>Águas de Lindóia</td>\n",
       "      <td>23</td>\n",
       "    </tr>\n",
       "  </tbody>\n",
       "</table>\n",
       "</div>"
      ],
      "text/plain": [
       "   id_municipio    municipio_nome  id_pjreg\n",
       "0       3500105        Adamantina        20\n",
       "1       3500204            Adolfo        19\n",
       "2       3500303             Aguaí        23\n",
       "3       3500402    Águas da Prata        23\n",
       "4       3500501  Águas de Lindóia        23"
      ]
     },
     "execution_count": 4,
     "metadata": {},
     "output_type": "execute_result"
    }
   ],
   "source": [
    "# Merge Municípios\n",
    "df = pd.merge(\n",
    "    df_mun,\n",
    "    df,\n",
    "    how='left',\n",
    "    left_on='id_municipio',\n",
    "    right_on='id_municipio',\n",
    ")\n",
    "\n",
    "# Results\n",
    "df.info()\n",
    "df.head()"
   ]
  },
  {
   "attachments": {},
   "cell_type": "markdown",
   "id": "fba9b394-bd39-4dcc-8fa6-6e137397a2eb",
   "metadata": {},
   "source": [
    "<br>\n",
    "\n",
    "## Município Áreas Regionais\n"
   ]
  },
  {
   "cell_type": "code",
   "execution_count": 5,
   "id": "b83d86a1",
   "metadata": {},
   "outputs": [
    {
     "name": "stdout",
     "output_type": "stream",
     "text": [
      "<class 'pandas.core.frame.DataFrame'>\n",
      "RangeIndex: 24 entries, 0 to 23\n",
      "Data columns (total 2 columns):\n",
      " #   Column      Non-Null Count  Dtype \n",
      "---  ------      --------------  ----- \n",
      " 0   pjreg_id    24 non-null     int64 \n",
      " 1   pjreg_nome  24 non-null     object\n",
      "dtypes: int64(1), object(1)\n",
      "memory usage: 512.0+ bytes\n"
     ]
    },
    {
     "data": {
      "text/html": [
       "<div>\n",
       "<style scoped>\n",
       "    .dataframe tbody tr th:only-of-type {\n",
       "        vertical-align: middle;\n",
       "    }\n",
       "\n",
       "    .dataframe tbody tr th {\n",
       "        vertical-align: top;\n",
       "    }\n",
       "\n",
       "    .dataframe thead th {\n",
       "        text-align: right;\n",
       "    }\n",
       "</style>\n",
       "<table border=\"1\" class=\"dataframe\">\n",
       "  <thead>\n",
       "    <tr style=\"text-align: right;\">\n",
       "      <th></th>\n",
       "      <th>pjreg_id</th>\n",
       "      <th>pjreg_nome</th>\n",
       "    </tr>\n",
       "  </thead>\n",
       "  <tbody>\n",
       "    <tr>\n",
       "      <th>0</th>\n",
       "      <td>1</td>\n",
       "      <td>Promotoria de Justiça Regional do Meio Ambient...</td>\n",
       "    </tr>\n",
       "    <tr>\n",
       "      <th>1</th>\n",
       "      <td>2</td>\n",
       "      <td>Promotoria de Justiça Regional do Meio Ambient...</td>\n",
       "    </tr>\n",
       "    <tr>\n",
       "      <th>2</th>\n",
       "      <td>3</td>\n",
       "      <td>Promotoria de Justiça Regional do Meio Ambient...</td>\n",
       "    </tr>\n",
       "    <tr>\n",
       "      <th>3</th>\n",
       "      <td>4</td>\n",
       "      <td>Promotoria de Justiça Regional do Meio Ambient...</td>\n",
       "    </tr>\n",
       "    <tr>\n",
       "      <th>4</th>\n",
       "      <td>5</td>\n",
       "      <td>Promotoria de Justiça Regional do Meio Ambient...</td>\n",
       "    </tr>\n",
       "  </tbody>\n",
       "</table>\n",
       "</div>"
      ],
      "text/plain": [
       "   pjreg_id                                         pjreg_nome\n",
       "0         1  Promotoria de Justiça Regional do Meio Ambient...\n",
       "1         2  Promotoria de Justiça Regional do Meio Ambient...\n",
       "2         3  Promotoria de Justiça Regional do Meio Ambient...\n",
       "3         4  Promotoria de Justiça Regional do Meio Ambient...\n",
       "4         5  Promotoria de Justiça Regional do Meio Ambient..."
      ]
     },
     "execution_count": 5,
     "metadata": {},
     "output_type": "execute_result"
    }
   ],
   "source": [
    "# Dataframe GAEMAs\n",
    "df_ar = pd.read_csv(input_path_tab / 'tab_pjregional.csv')\n",
    "df_ar = df_ar.add_prefix('pjreg_')\n",
    "\n",
    "# Results\n",
    "df_ar.info()\n",
    "df_ar.head()"
   ]
  },
  {
   "cell_type": "code",
   "execution_count": 6,
   "id": "02df792c-d40d-4de5-b6f2-8acfa8dab5ae",
   "metadata": {},
   "outputs": [
    {
     "name": "stdout",
     "output_type": "stream",
     "text": [
      "<class 'pandas.core.frame.DataFrame'>\n",
      "RangeIndex: 645 entries, 0 to 644\n",
      "Data columns (total 4 columns):\n",
      " #   Column          Non-Null Count  Dtype \n",
      "---  ------          --------------  ----- \n",
      " 0   id_municipio    645 non-null    int64 \n",
      " 1   municipio_nome  645 non-null    object\n",
      " 2   id_pjreg        645 non-null    int64 \n",
      " 3   pjreg_nome      645 non-null    object\n",
      "dtypes: int64(2), object(2)\n",
      "memory usage: 20.3+ KB\n"
     ]
    },
    {
     "data": {
      "text/html": [
       "<div>\n",
       "<style scoped>\n",
       "    .dataframe tbody tr th:only-of-type {\n",
       "        vertical-align: middle;\n",
       "    }\n",
       "\n",
       "    .dataframe tbody tr th {\n",
       "        vertical-align: top;\n",
       "    }\n",
       "\n",
       "    .dataframe thead th {\n",
       "        text-align: right;\n",
       "    }\n",
       "</style>\n",
       "<table border=\"1\" class=\"dataframe\">\n",
       "  <thead>\n",
       "    <tr style=\"text-align: right;\">\n",
       "      <th></th>\n",
       "      <th>id_municipio</th>\n",
       "      <th>municipio_nome</th>\n",
       "      <th>id_pjreg</th>\n",
       "      <th>pjreg_nome</th>\n",
       "    </tr>\n",
       "  </thead>\n",
       "  <tbody>\n",
       "    <tr>\n",
       "      <th>0</th>\n",
       "      <td>3500105</td>\n",
       "      <td>Adamantina</td>\n",
       "      <td>20</td>\n",
       "      <td>Promotoria de Justiça Regional do Meio Ambient...</td>\n",
       "    </tr>\n",
       "    <tr>\n",
       "      <th>1</th>\n",
       "      <td>3500204</td>\n",
       "      <td>Adolfo</td>\n",
       "      <td>19</td>\n",
       "      <td>Promotoria de Justiça Regional do Meio Ambient...</td>\n",
       "    </tr>\n",
       "    <tr>\n",
       "      <th>2</th>\n",
       "      <td>3500303</td>\n",
       "      <td>Aguaí</td>\n",
       "      <td>23</td>\n",
       "      <td>Promotoria de Justiça Regional do Meio Ambient...</td>\n",
       "    </tr>\n",
       "    <tr>\n",
       "      <th>3</th>\n",
       "      <td>3500402</td>\n",
       "      <td>Águas da Prata</td>\n",
       "      <td>23</td>\n",
       "      <td>Promotoria de Justiça Regional do Meio Ambient...</td>\n",
       "    </tr>\n",
       "    <tr>\n",
       "      <th>4</th>\n",
       "      <td>3500501</td>\n",
       "      <td>Águas de Lindóia</td>\n",
       "      <td>23</td>\n",
       "      <td>Promotoria de Justiça Regional do Meio Ambient...</td>\n",
       "    </tr>\n",
       "  </tbody>\n",
       "</table>\n",
       "</div>"
      ],
      "text/plain": [
       "   id_municipio    municipio_nome  id_pjreg  \\\n",
       "0       3500105        Adamantina        20   \n",
       "1       3500204            Adolfo        19   \n",
       "2       3500303             Aguaí        23   \n",
       "3       3500402    Águas da Prata        23   \n",
       "4       3500501  Águas de Lindóia        23   \n",
       "\n",
       "                                          pjreg_nome  \n",
       "0  Promotoria de Justiça Regional do Meio Ambient...  \n",
       "1  Promotoria de Justiça Regional do Meio Ambient...  \n",
       "2  Promotoria de Justiça Regional do Meio Ambient...  \n",
       "3  Promotoria de Justiça Regional do Meio Ambient...  \n",
       "4  Promotoria de Justiça Regional do Meio Ambient...  "
      ]
     },
     "execution_count": 6,
     "metadata": {},
     "output_type": "execute_result"
    }
   ],
   "source": [
    "# Merge GAEMAs\n",
    "df = pd.merge(\n",
    "    df,\n",
    "    df_ar,\n",
    "    how='left',\n",
    "    left_on='id_pjreg',\n",
    "    right_on='pjreg_id',\n",
    ")\n",
    "\n",
    "# Drop\n",
    "df.drop(['pjreg_id'], axis=1, inplace=True, errors='ignore')\n",
    "\n",
    "# Save\n",
    "df.to_csv(\n",
    "    output_path_tabs / 'tab_municipio_pjreg.csv',\n",
    "    index=False,\n",
    ")\n",
    "\n",
    "# Results\n",
    "df.info()\n",
    "df.head()"
   ]
  },
  {
   "cell_type": "code",
   "execution_count": null,
   "id": "96d2b152",
   "metadata": {},
   "outputs": [],
   "source": []
  }
 ],
 "metadata": {
  "kernelspec": {
   "display_name": "pablocarreira-lastest",
   "language": "python",
   "name": "python3"
  },
  "language_info": {
   "codemirror_mode": {
    "name": "ipython",
    "version": 3
   },
   "file_extension": ".py",
   "mimetype": "text/x-python",
   "name": "python",
   "nbconvert_exporter": "python",
   "pygments_lexer": "ipython3",
   "version": "3.10.13"
  },
  "toc-autonumbering": true,
  "vscode": {
   "interpreter": {
    "hash": "3eff2e4eec0fbea9d660dbbf3c9c38e7f3540f855f42d9d14e44150e78f59c2a"
   }
  }
 },
 "nbformat": 4,
 "nbformat_minor": 5
}
